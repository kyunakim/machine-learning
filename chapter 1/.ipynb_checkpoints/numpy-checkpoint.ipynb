{
 "cells": [
  {
   "cell_type": "markdown",
   "id": "1650e1d9-ed85-491a-8f63-4b75ad18bbe4",
   "metadata": {},
   "source": [
    "### Numpy ndarray 개요"
   ]
  },
  {
   "cell_type": "code",
   "execution_count": 33,
   "id": "b436dd77-7c24-4b06-b5c4-93c9eda01240",
   "metadata": {},
   "outputs": [],
   "source": [
    "import numpy as np"
   ]
  },
  {
   "cell_type": "code",
   "execution_count": 34,
   "id": "0d4b8d42-d33b-442b-80ca-ac3e0a20a5a8",
   "metadata": {},
   "outputs": [
    {
     "name": "stdout",
     "output_type": "stream",
     "text": [
      "list1 type: <class 'list'>\n",
      "array1 type: <class 'numpy.ndarray'>\n",
      "array1 array 형태 : (3,)\n"
     ]
    }
   ],
   "source": [
    "list1 = [1,2,3]\n",
    "print('list1 type:', type(list1))\n",
    "array1 = np.array(list1)\n",
    "#array1 = np.array([1,2,3])\n",
    "print('array1 type:',type(array1))\n",
    "print('array1 array 형태 :' ,array1.shape)"
   ]
  },
  {
   "cell_type": "code",
   "execution_count": 35,
   "id": "ef022dab-6886-4245-8706-427813e7af45",
   "metadata": {},
   "outputs": [
    {
     "name": "stdout",
     "output_type": "stream",
     "text": [
      "array2 type: <class 'numpy.ndarray'>\n",
      "array1 array 형태 : (2, 3)\n"
     ]
    }
   ],
   "source": [
    "array2 = np.array([[1,2,3],[2,3,4]])\n",
    "print('array2 type:', type(array2))\n",
    "print('array1 array 형태 :' ,array2.shape)"
   ]
  },
  {
   "cell_type": "code",
   "execution_count": 36,
   "id": "7ca72c19-96ff-4eb3-89f9-a18e24bbaed8",
   "metadata": {},
   "outputs": [
    {
     "name": "stdout",
     "output_type": "stream",
     "text": [
      "array3 type: <class 'numpy.ndarray'>\n",
      "array3 array 형태: (1, 3)\n"
     ]
    }
   ],
   "source": [
    "array3 = np.array([[1,2,3]])\n",
    "print('array3 type:',type(array3))\n",
    "print('array3 array 형태:',array3.shape)"
   ]
  },
  {
   "cell_type": "code",
   "execution_count": 37,
   "id": "fb548c56-4df8-4cd4-992c-e2fff4bd3b36",
   "metadata": {},
   "outputs": [
    {
     "name": "stdout",
     "output_type": "stream",
     "text": [
      "array1: 1차원, array2: 2차원, array3:  2차원\n"
     ]
    }
   ],
   "source": [
    "print('array1: {:0}차원, array2: {:1}차원, array3: {:2}차원'.format(array1.ndim,array2.ndim,array3.ndim))"
   ]
  },
  {
   "cell_type": "markdown",
   "id": "29d61663-068a-4030-a6ce-1af5b7f45ac9",
   "metadata": {},
   "source": [
    "### ndarray의 데이터 타입"
   ]
  },
  {
   "cell_type": "code",
   "execution_count": 38,
   "id": "f6278558-10a5-4d08-ad31-d1f9c8c4d4be",
   "metadata": {},
   "outputs": [
    {
     "name": "stdout",
     "output_type": "stream",
     "text": [
      "<class 'list'>\n",
      "<class 'numpy.ndarray'>\n",
      "[1 2 3] int64\n"
     ]
    }
   ],
   "source": [
    "list1 = [1,2,3]\n",
    "print(type(list1))\n",
    "array1 = np.array(list1)\n",
    "print(type(array1))\n",
    "print(array1, array1.dtype)"
   ]
  },
  {
   "cell_type": "code",
   "execution_count": 39,
   "id": "f3334ba2-0fce-4074-8def-c027dd07628f",
   "metadata": {},
   "outputs": [
    {
     "name": "stdout",
     "output_type": "stream",
     "text": [
      "['1' '2' 'test'] <U21\n",
      "[1. 2. 3.] float64\n"
     ]
    }
   ],
   "source": [
    "list2 = [1, 2, 'test']\n",
    "array2 = np.array(list2)\n",
    "print(array2, array2.dtype)\n",
    "\n",
    "list3 = [1, 2, 3.0]\n",
    "array3 = np.array(list3)\n",
    "print(array3, array3.dtype)"
   ]
  },
  {
   "cell_type": "code",
   "execution_count": 40,
   "id": "8b0da5b5-b9c2-4ae0-ae86-b7c17069b7e7",
   "metadata": {},
   "outputs": [
    {
     "name": "stdout",
     "output_type": "stream",
     "text": [
      "[1. 2. 3.] float64\n",
      "[1 2 3] int32\n",
      "[1 2 3] int32\n"
     ]
    }
   ],
   "source": [
    "array_int = np.array([1, 2, 3])\n",
    "array_float = array_int.astype('float64') # array_int.astype(np.float64)\n",
    "print(array_float, array_float.dtype)\n",
    "\n",
    "array_int1= array_float.astype('int32')\n",
    "print(array_int1, array_int1.dtype)\n",
    "\n",
    "array_float1 = np.array([1.1, 2.1, 3.1])\n",
    "array_int2= array_float1.astype('int32')\n",
    "print(array_int2, array_int2.dtype)\n"
   ]
  },
  {
   "cell_type": "markdown",
   "id": "5a3e17d6-ab66-4211-b6c1-94b4b86515ca",
   "metadata": {},
   "source": [
    "### ndarray를 편리하게 생성하기 - arange, zeros, ones"
   ]
  },
  {
   "cell_type": "code",
   "execution_count": 41,
   "id": "2269e790-e997-4c54-b507-940d9978a4f1",
   "metadata": {},
   "outputs": [
    {
     "name": "stdout",
     "output_type": "stream",
     "text": [
      "[0 1 2 3 4 5 6 7 8 9]\n",
      "int64 (10,)\n"
     ]
    }
   ],
   "source": [
    "sequence_array = np.arange(10)\n",
    "print(sequence_array)\n",
    "print(sequence_array.dtype, sequence_array.shape)"
   ]
  },
  {
   "cell_type": "code",
   "execution_count": 42,
   "id": "6e09d498-2485-4e00-b1ab-c7350ed24916",
   "metadata": {},
   "outputs": [
    {
     "name": "stdout",
     "output_type": "stream",
     "text": [
      "[[0 0]\n",
      " [0 0]\n",
      " [0 0]]\n",
      "int32 (3, 2)\n",
      "[[1. 1.]\n",
      " [1. 1.]\n",
      " [1. 1.]]\n",
      "float64 (3, 2)\n"
     ]
    }
   ],
   "source": [
    "#(3, 2) shape을 가지는 모든 원소가 0, dtype은 int32 인 ndarray 생성.  \n",
    "zero_array = np.zeros((3, 2), dtype='int32')\n",
    "print(zero_array)\n",
    "print(zero_array.dtype, zero_array.shape)\n",
    "\n",
    "#(3, 2) shape을 가지는 모든 원소가 1인 ndarray 생성. ,\n",
    "one_array = np.ones((3, 2))\n",
    "print(one_array)\n",
    "print(one_array.dtype, one_array.shape)"
   ]
  },
  {
   "cell_type": "markdown",
   "id": "3e9c6d7c-9051-4b4b-99fd-3a03a1c74abe",
   "metadata": {},
   "source": [
    "### ndarray의 차원과 크기를 변경하는 reshape"
   ]
  },
  {
   "cell_type": "code",
   "execution_count": 43,
   "id": "d8b5dd42-da6e-4bd6-9e2f-204dcdc57a94",
   "metadata": {},
   "outputs": [
    {
     "name": "stdout",
     "output_type": "stream",
     "text": [
      "array1:\n",
      " [0 1 2 3 4 5 6 7 8 9]\n",
      "array2:\n",
      " [[0 1 2 3 4]\n",
      " [5 6 7 8 9]]\n",
      "array3:\n",
      " [[0 1]\n",
      " [2 3]\n",
      " [4 5]\n",
      " [6 7]\n",
      " [8 9]]\n"
     ]
    }
   ],
   "source": [
    "array1 = np.arange(10)\n",
    "print('array1:\\n', array1)\n",
    "\n",
    "# (2, 5) shape으로 변환\n",
    "array2 = array1.reshape(2, 5)\n",
    "print('array2:\\n',array2)\n",
    "\n",
    "#(5, 2) shape으로 변환. \n",
    "array3 = array1.reshape(5,2)\n",
    "print('array3:\\n',array3)"
   ]
  },
  {
   "cell_type": "code",
   "execution_count": 44,
   "id": "1378e552-b09d-4dc9-8ad6-88dade653972",
   "metadata": {},
   "outputs": [
    {
     "ename": "ValueError",
     "evalue": "cannot reshape array of size 10 into shape (4,3)",
     "output_type": "error",
     "traceback": [
      "\u001b[0;31m---------------------------------------------------------------------------\u001b[0m",
      "\u001b[0;31mValueError\u001b[0m                                Traceback (most recent call last)",
      "Input \u001b[0;32mIn [44]\u001b[0m, in \u001b[0;36m<cell line: 1>\u001b[0;34m()\u001b[0m\n\u001b[0;32m----> 1\u001b[0m \u001b[43marray1\u001b[49m\u001b[38;5;241;43m.\u001b[39;49m\u001b[43mreshape\u001b[49m\u001b[43m(\u001b[49m\u001b[38;5;241;43m4\u001b[39;49m\u001b[43m,\u001b[49m\u001b[38;5;241;43m3\u001b[39;49m\u001b[43m)\u001b[49m\n",
      "\u001b[0;31mValueError\u001b[0m: cannot reshape array of size 10 into shape (4,3)"
     ]
    }
   ],
   "source": [
    "array1.reshape(4,3)"
   ]
  },
  {
   "cell_type": "code",
   "execution_count": 45,
   "id": "47fec4dc-1885-49e0-95c0-62013ad88e90",
   "metadata": {},
   "outputs": [
    {
     "name": "stdout",
     "output_type": "stream",
     "text": [
      "[0 1 2 3 4 5 6 7 8 9]\n",
      "array2 shape: (2, 5)\n",
      "array3 shape: (5, 2)\n"
     ]
    }
   ],
   "source": [
    "array1 = np.arange(10)\n",
    "print(array1)\n",
    "\n",
    "array2 = array1.reshape(-1,5)\n",
    "print('array2 shape:',array2.shape)\n",
    "\n",
    "array3 = array1.reshape(5,-1)\n",
    "print('array3 shape:',array3.shape)"
   ]
  },
  {
   "cell_type": "code",
   "execution_count": 46,
   "id": "f18e07f6-1a2c-47bb-bc30-8f1476a385a7",
   "metadata": {},
   "outputs": [
    {
     "ename": "ValueError",
     "evalue": "cannot reshape array of size 10 into shape (4)",
     "output_type": "error",
     "traceback": [
      "\u001b[0;31m---------------------------------------------------------------------------\u001b[0m",
      "\u001b[0;31mValueError\u001b[0m                                Traceback (most recent call last)",
      "Input \u001b[0;32mIn [46]\u001b[0m, in \u001b[0;36m<cell line: 2>\u001b[0;34m()\u001b[0m\n\u001b[1;32m      1\u001b[0m array1 \u001b[38;5;241m=\u001b[39m np\u001b[38;5;241m.\u001b[39marange(\u001b[38;5;241m10\u001b[39m)\n\u001b[0;32m----> 2\u001b[0m array4 \u001b[38;5;241m=\u001b[39m \u001b[43marray1\u001b[49m\u001b[38;5;241;43m.\u001b[39;49m\u001b[43mreshape\u001b[49m\u001b[43m(\u001b[49m\u001b[38;5;241;43m-\u001b[39;49m\u001b[38;5;241;43m1\u001b[39;49m\u001b[43m,\u001b[49m\u001b[38;5;241;43m4\u001b[39;49m\u001b[43m)\u001b[49m\n",
      "\u001b[0;31mValueError\u001b[0m: cannot reshape array of size 10 into shape (4)"
     ]
    }
   ],
   "source": [
    "array1 = np.arange(10)\n",
    "array4 = array1.reshape(-1,4)"
   ]
  },
  {
   "cell_type": "code",
   "execution_count": 47,
   "id": "734d42f4-ef38-4eb1-b87f-8f83905feaad",
   "metadata": {},
   "outputs": [
    {
     "name": "stdout",
     "output_type": "stream",
     "text": [
      "array3d:\n",
      " [[[0, 1], [2, 3]], [[4, 5], [6, 7]]]\n",
      "array5:\n",
      " [[0], [1], [2], [3], [4], [5], [6], [7]]\n",
      "array5 shape: (8, 1)\n",
      "array6:\n",
      " [[0], [1], [2], [3], [4], [5], [6], [7]]\n",
      "array6 shape: (8, 1)\n"
     ]
    }
   ],
   "source": [
    "array1 = np.arange(8)\n",
    "array3d = array1.reshape((2,2,2))\n",
    "print('array3d:\\n',array3d.tolist())\n",
    "\n",
    "# 3차원 ndarray를 2차원 ndarray로 변환하되 칼럼갯수는 1\n",
    "array5 = array3d.reshape(-1, 1)\n",
    "print('array5:\\n',array5.tolist())\n",
    "print('array5 shape:',array5.shape)\n",
    "\n",
    "# 1차원 ndarray를 2차원 ndarray로 변환화되 칼럼 갯수는 1\n",
    "array6 = array1.reshape(-1, 1)\n",
    "print('array6:\\n',array6.tolist())\n",
    "print('array6 shape:',array6.shape)"
   ]
  },
  {
   "cell_type": "code",
   "execution_count": 48,
   "id": "33de9474-b728-4a52-b139-6504ff6980c7",
   "metadata": {},
   "outputs": [
    {
     "name": "stdout",
     "output_type": "stream",
     "text": [
      "[0 1 2 3 4 5 6 7]\n"
     ]
    }
   ],
   "source": [
    "# 3차원 array를 1차원으로 변환\n",
    "array1d = array3d.reshape(-1,)\n",
    "print(array1d)"
   ]
  },
  {
   "cell_type": "markdown",
   "id": "50261fb3-54a3-4c70-bfd7-19c4a9c12656",
   "metadata": {},
   "source": [
    "### 넘파이 ndarray의 데이터 세트 선택하기 - indexing"
   ]
  },
  {
   "cell_type": "markdown",
   "id": "29d9f91b-7886-42fb-98c8-6e8970051565",
   "metadata": {},
   "source": [
    "* 단일 인덱싱. "
   ]
  },
  {
   "cell_type": "code",
   "execution_count": 49,
   "id": "66fe51f4-1606-4c4d-af36-53e664edee2e",
   "metadata": {},
   "outputs": [
    {
     "name": "stdout",
     "output_type": "stream",
     "text": [
      "array1: [1 2 3 4 5 6 7 8 9]\n",
      "value: 3\n",
      "<class 'numpy.int64'>\n"
     ]
    }
   ],
   "source": [
    "# 1에서 부터 9 까지의 1차원 ndarray 생성 \n",
    "array1 = np.arange(start=1, stop=10)\n",
    "print('array1:',array1)\n",
    "# index는 0 부터 시작하므로 array1[2]는 3번째 index 위치의 데이터 값을 의미\n",
    "value = array1[2]\n",
    "print('value:',value)\n",
    "print(type(value))"
   ]
  },
  {
   "cell_type": "code",
   "execution_count": 50,
   "id": "0ce20204-b0b4-4a28-bee4-e279625e5d3d",
   "metadata": {},
   "outputs": [
    {
     "name": "stdout",
     "output_type": "stream",
     "text": [
      "맨 뒤의 값: 9 , 맨 뒤에서 두번째 값: 8\n"
     ]
    }
   ],
   "source": [
    "print('맨 뒤의 값:',array1[-1], ', 맨 뒤에서 두번째 값:',array1[-2])"
   ]
  },
  {
   "cell_type": "code",
   "execution_count": 51,
   "id": "1389057f-4af5-46ba-835d-3447a286363d",
   "metadata": {},
   "outputs": [
    {
     "name": "stdout",
     "output_type": "stream",
     "text": [
      "array1: [9 2 3 4 5 6 7 8 0]\n"
     ]
    }
   ],
   "source": [
    "array1[0] = 9\n",
    "array1[8] = 0\n",
    "print('array1:',array1)"
   ]
  },
  {
   "cell_type": "code",
   "execution_count": 52,
   "id": "8af7548c-dbaf-4e8a-8e8b-d64cfa2d62f9",
   "metadata": {},
   "outputs": [
    {
     "name": "stdout",
     "output_type": "stream",
     "text": [
      "[[1 2 3]\n",
      " [4 5 6]\n",
      " [7 8 9]]\n",
      "(row=0,col=0) index 가리키는 값: 1\n",
      "(row=0,col=1) index 가리키는 값: 2\n",
      "(row=1,col=0) index 가리키는 값: 4\n",
      "(row=2,col=2) index 가리키는 값: 9\n"
     ]
    }
   ],
   "source": [
    "array1d = np.arange(start=1, stop=10)\n",
    "array2d = array1d.reshape(3,3)\n",
    "print(array2d)\n",
    "\n",
    "print('(row=0,col=0) index 가리키는 값:', array2d[0,0] )\n",
    "print('(row=0,col=1) index 가리키는 값:', array2d[0,1] )\n",
    "print('(row=1,col=0) index 가리키는 값:', array2d[1,0] )\n",
    "print('(row=2,col=2) index 가리키는 값:', array2d[2,2] )"
   ]
  },
  {
   "cell_type": "markdown",
   "id": "9f9fd44b-ccb2-4730-8954-d6ec74af1afd",
   "metadata": {},
   "source": [
    "* 슬라이싱 인덱싱"
   ]
  },
  {
   "cell_type": "code",
   "execution_count": 53,
   "id": "05e667f5-da1a-4257-a17d-da54b6ed7a8e",
   "metadata": {},
   "outputs": [
    {
     "name": "stdout",
     "output_type": "stream",
     "text": [
      "array1: [1 2 3 4 5 6 7 8 9]\n",
      "array3: [1 2 3]\n",
      "<class 'numpy.ndarray'>\n"
     ]
    }
   ],
   "source": [
    "array1 = np.arange(start=1, stop=10)\n",
    "print('array1:', array1)\n",
    "array3 = array1[0:3]\n",
    "print('array3:', array3)\n",
    "print(type(array3))"
   ]
  },
  {
   "cell_type": "code",
   "execution_count": 54,
   "id": "673ea315-d1b1-4794-99bd-78d140350a9b",
   "metadata": {},
   "outputs": [
    {
     "name": "stdout",
     "output_type": "stream",
     "text": [
      "[1 2 3]\n",
      "[4 5 6 7 8 9]\n",
      "[1 2 3 4 5 6 7 8 9]\n"
     ]
    }
   ],
   "source": [
    "array1 = np.arange(start=1, stop=10)\n",
    "# 위치 인덱스 0-2(2포함)까지 추출\n",
    "array4 = array1[0:3]\n",
    "print(array4)\n",
    "\n",
    "# 위치 인덱스 3부터 마지막까지 추출\n",
    "array5 = array1[3:]\n",
    "print(array5)\n",
    "\n",
    "# 위치 인덱스로 전체 데이터 추출\n",
    "array6 = array1[:]\n",
    "print(array6)"
   ]
  },
  {
   "cell_type": "code",
   "execution_count": 55,
   "id": "1e1432ca-ccb7-45ad-9c6f-25d66ccdabd7",
   "metadata": {},
   "outputs": [
    {
     "name": "stdout",
     "output_type": "stream",
     "text": [
      "array2d:\n",
      " [[1 2 3]\n",
      " [4 5 6]\n",
      " [7 8 9]]\n",
      "array2d[0:2, 0:2] \n",
      " [[1 2]\n",
      " [4 5]]\n",
      "array2d[1:3, 0:3] \n",
      " [[4 5 6]\n",
      " [7 8 9]]\n",
      "array2d[1:3, :] \n",
      " [[4 5 6]\n",
      " [7 8 9]]\n",
      "array2d[:, :] \n",
      " [[1 2 3]\n",
      " [4 5 6]\n",
      " [7 8 9]]\n",
      "array2d[:2, 1:] \n",
      " [[2 3]\n",
      " [5 6]]\n",
      "array2d[:2, 0] \n",
      " [1 4]\n"
     ]
    }
   ],
   "source": [
    "array1d = np.arange(start=1, stop=10)\n",
    "array2d = array1d.reshape(3,3)\n",
    "print('array2d:\\n',array2d)\n",
    "\n",
    "print('array2d[0:2, 0:2] \\n', array2d[0:2, 0:2])\n",
    "print('array2d[1:3, 0:3] \\n', array2d[1:3, 0:3])\n",
    "print('array2d[1:3, :] \\n', array2d[1:3, :])\n",
    "print('array2d[:, :] \\n', array2d[:, :])\n",
    "print('array2d[:2, 1:] \\n', array2d[:2, 1:])\n",
    "print('array2d[:2, 0] \\n', array2d[:2, 0])"
   ]
  },
  {
   "cell_type": "code",
   "execution_count": 56,
   "id": "e67ea293-027c-4e64-9f9e-b29136c42a5f",
   "metadata": {},
   "outputs": [
    {
     "name": "stdout",
     "output_type": "stream",
     "text": [
      "[1 2 3]\n",
      "[4 5 6]\n",
      "array2d[0] shape: (3,) array2d[1] shape: (3,)\n"
     ]
    }
   ],
   "source": [
    "print(array2d[0])\n",
    "print(array2d[1])\n",
    "print('array2d[0] shape:', array2d[0].shape, 'array2d[1] shape:', array2d[1].shape )"
   ]
  },
  {
   "cell_type": "markdown",
   "id": "45a92e31-1300-4d9e-9f48-965dbe0fd012",
   "metadata": {},
   "source": [
    "* 팬시 인덱싱"
   ]
  },
  {
   "cell_type": "code",
   "execution_count": 57,
   "id": "3189bf46-3525-43b1-a586-165a3078408d",
   "metadata": {},
   "outputs": [
    {
     "name": "stdout",
     "output_type": "stream",
     "text": [
      "[[1 2 3]\n",
      " [4 5 6]\n",
      " [7 8 9]]\n",
      "array2d[[0,1], 2] =>  [3, 6]\n",
      "array2d[[0,1], 0:2] =>  [[1, 2], [4, 5]]\n",
      "array2d[[0,1]] =>  [[1, 2, 3], [4, 5, 6]]\n"
     ]
    }
   ],
   "source": [
    "array1d = np.arange(start=1, stop=10)\n",
    "array2d = array1d.reshape(3,3)\n",
    "print(array2d)\n",
    "\n",
    "array3 = array2d[[0,1], 2]\n",
    "print('array2d[[0,1], 2] => ',array3.tolist())\n",
    "\n",
    "array4 = array2d[[0,1], 0:2]\n",
    "print('array2d[[0,1], 0:2] => ',array4.tolist())\n",
    "\n",
    "array5 = array2d[[0,1]]\n",
    "print('array2d[[0,1]] => ',array5.tolist())"
   ]
  },
  {
   "cell_type": "markdown",
   "id": "7b838871-1862-49d3-80d1-0601f25148ea",
   "metadata": {},
   "source": [
    "* 불린 인덱싱"
   ]
  },
  {
   "cell_type": "code",
   "execution_count": 58,
   "id": "fb0416af-db4a-4b6b-b1f8-a2bbd1a7f7c5",
   "metadata": {},
   "outputs": [
    {
     "name": "stdout",
     "output_type": "stream",
     "text": [
      "[1 2 3 4 5 6 7 8 9]\n",
      "array1d > 5 불린 인덱싱 결과 값 : [6 7 8 9]\n"
     ]
    }
   ],
   "source": [
    "array1d = np.arange(start=1, stop=10)\n",
    "print(array1d)\n",
    "# [ ] 안에 array1d > 5 Boolean indexing을 적용 \n",
    "array3 = array1d[array1d > 5]\n",
    "print('array1d > 5 불린 인덱싱 결과 값 :', array3)"
   ]
  },
  {
   "cell_type": "code",
   "execution_count": 59,
   "id": "ee85bb98-7091-4069-898f-e2ce7fb00c69",
   "metadata": {},
   "outputs": [
    {
     "data": {
      "text/plain": [
       "array([False, False, False, False, False,  True,  True,  True,  True])"
      ]
     },
     "execution_count": 59,
     "metadata": {},
     "output_type": "execute_result"
    }
   ],
   "source": [
    "array1d > 5"
   ]
  },
  {
   "cell_type": "code",
   "execution_count": 60,
   "id": "746eeb7a-05bf-466b-91bd-9e999e974624",
   "metadata": {},
   "outputs": [
    {
     "name": "stdout",
     "output_type": "stream",
     "text": [
      "[False False False False False  True  True  True  True] <class 'numpy.ndarray'> (9,)\n"
     ]
    }
   ],
   "source": [
    "val = array1d > 5\n",
    "print(val, type(val), val.shape)"
   ]
  },
  {
   "cell_type": "code",
   "execution_count": 61,
   "id": "3ded7dd7-7812-4c40-ac5c-1ba6e0a29b46",
   "metadata": {},
   "outputs": [
    {
     "name": "stdout",
     "output_type": "stream",
     "text": [
      "불린 인덱스로 필터링 결과 : [6 7 8 9]\n"
     ]
    }
   ],
   "source": [
    "boolean_indexes = np.array([False, False, False, False, False,  True,  True,  True,  True])\n",
    "array3 = array1d[boolean_indexes]\n",
    "print('불린 인덱스로 필터링 결과 :', array3)"
   ]
  },
  {
   "cell_type": "code",
   "execution_count": 62,
   "id": "7f4df2c0-c0d7-4bed-baf5-01cd04df7b50",
   "metadata": {},
   "outputs": [
    {
     "name": "stdout",
     "output_type": "stream",
     "text": [
      "[6 7 8 9]\n"
     ]
    }
   ],
   "source": [
    "array1d = np.arange(start=1, stop=10)\n",
    "target = []\n",
    "#불린 인덱싱을 적용하지 않았을 경우 \n",
    "for i in range(0, 9):\n",
    "    if array1d[i] > 5:\n",
    "        target.append(array1d[i])\n",
    "\n",
    "array_selected = np.array(target)\n",
    "print(array_selected)"
   ]
  },
  {
   "cell_type": "code",
   "execution_count": 63,
   "id": "cc73b1dd-eb9a-4e6b-96b6-57b77707c336",
   "metadata": {},
   "outputs": [
    {
     "name": "stdout",
     "output_type": "stream",
     "text": [
      "일반 인덱스로 필터링 결과 : [6 7 8 9]\n"
     ]
    }
   ],
   "source": [
    "indexes = np.array([5,6,7,8])\n",
    "array4 = array1d[ indexes ]\n",
    "print('일반 인덱스로 필터링 결과 :',array4)"
   ]
  },
  {
   "cell_type": "markdown",
   "id": "d9a5b508-3c48-4bc9-983a-3656d8804c54",
   "metadata": {},
   "source": [
    "### 행렬의 정렬 – sort( )와 argsort( )\n",
    "\n",
    "* 행렬 정렬"
   ]
  },
  {
   "cell_type": "code",
   "execution_count": 64,
   "id": "bfd2faed-beee-42eb-bc79-a4fc95d6aad8",
   "metadata": {},
   "outputs": [
    {
     "name": "stdout",
     "output_type": "stream",
     "text": [
      "원본 배열: [3 1 9 5]\n",
      "np.sort( ) 호출 후 반환된 정렬 배열: [1 3 5 9]\n",
      "np.sort( ) 호출 후 원본 배열: [3 1 9 5]\n",
      "org_array.sort( ) 호출 후 반환된 배열: None\n",
      "org_array.sort( ) 호출 후 원본 배열: [1 3 5 9]\n"
     ]
    }
   ],
   "source": [
    "org_array = np.array([ 3, 1, 9, 5]) \n",
    "print('원본 배열:', org_array)\n",
    "# np.sort( )로 정렬 \n",
    "sort_array1 = np.sort(org_array)         \n",
    "print ('np.sort( ) 호출 후 반환된 정렬 배열:', sort_array1) \n",
    "print('np.sort( ) 호출 후 원본 배열:', org_array)\n",
    "# ndarray.sort( )로 정렬\n",
    "sort_array2 = org_array.sort()\n",
    "print('org_array.sort( ) 호출 후 반환된 배열:', sort_array2)\n",
    "print('org_array.sort( ) 호출 후 원본 배열:', org_array)\n"
   ]
  },
  {
   "cell_type": "code",
   "execution_count": 65,
   "id": "ee47f4c9-ee6e-471b-9e1c-4a4626d3ad4c",
   "metadata": {},
   "outputs": [
    {
     "name": "stdout",
     "output_type": "stream",
     "text": [
      "내림차순으로 정렬: [9 5 3 1]\n"
     ]
    }
   ],
   "source": [
    "sort_array1_desc = np.sort(org_array)[::-1]\n",
    "print ('내림차순으로 정렬:', sort_array1_desc) "
   ]
  },
  {
   "cell_type": "code",
   "execution_count": 66,
   "id": "e6075826-1b00-4e19-9cb5-f713e17eb614",
   "metadata": {},
   "outputs": [
    {
     "name": "stdout",
     "output_type": "stream",
     "text": [
      "로우 방향으로 정렬:\n",
      " [[ 7  1]\n",
      " [ 8 12]]\n",
      "컬럼 방향으로 정렬:\n",
      " [[ 8 12]\n",
      " [ 1  7]]\n"
     ]
    }
   ],
   "source": [
    "array2d = np.array([[8, 12], \n",
    "                   [7, 1 ]])\n",
    "\n",
    "sort_array2d_axis0 = np.sort(array2d, axis=0)\n",
    "print('로우 방향으로 정렬:\\n', sort_array2d_axis0)\n",
    "\n",
    "sort_array2d_axis1 = np.sort(array2d, axis=1)\n",
    "print('컬럼 방향으로 정렬:\\n', sort_array2d_axis1)"
   ]
  },
  {
   "cell_type": "markdown",
   "id": "5248cb85-eb1f-4fa4-a6a1-3777df0e477d",
   "metadata": {},
   "source": [
    "* 정렬 행렬의 인덱스 반환"
   ]
  },
  {
   "cell_type": "code",
   "execution_count": 67,
   "id": "ae2288d3-0422-4293-af5c-1e7c152f8303",
   "metadata": {},
   "outputs": [
    {
     "name": "stdout",
     "output_type": "stream",
     "text": [
      "<class 'numpy.ndarray'>\n",
      "행렬 정렬 시 원본 배열의 인덱스: [1 0 3 2]\n"
     ]
    }
   ],
   "source": [
    "org_array = np.array([ 3, 1, 9, 5]) \n",
    "sort_indices = np.argsort(org_array)\n",
    "print(type(sort_indices))\n",
    "print('행렬 정렬 시 원본 배열의 인덱스:', sort_indices)"
   ]
  },
  {
   "cell_type": "code",
   "execution_count": 68,
   "id": "b6b599cd-df48-42b9-ba41-35c80b75c286",
   "metadata": {},
   "outputs": [
    {
     "name": "stdout",
     "output_type": "stream",
     "text": [
      "행렬 내림차순 정렬 시 원본 배열의 인덱스: [2 3 0 1]\n"
     ]
    }
   ],
   "source": [
    "org_array = np.array([ 3, 1, 9, 5]) \n",
    "sort_indices_desc = np.argsort(org_array)[::-1]\n",
    "print('행렬 내림차순 정렬 시 원본 배열의 인덱스:', sort_indices_desc)"
   ]
  },
  {
   "cell_type": "code",
   "execution_count": 69,
   "id": "9e8febd8-b4db-443c-9288-34089354ed21",
   "metadata": {},
   "outputs": [
    {
     "name": "stdout",
     "output_type": "stream",
     "text": [
      "성적 오름차순 정렬 시 score_array의 인덱스: [0 2 4 1 3]\n",
      "성적 오름차순으로 name_array의 이름 출력: ['John' 'Sarah' 'Samuel' 'Mike' 'Kate']\n"
     ]
    }
   ],
   "source": [
    "import numpy as np\n",
    "\n",
    "name_array = np.array(['John', 'Mike', 'Sarah', 'Kate', 'Samuel'])\n",
    "score_array= np.array([78, 95, 84, 98, 88])\n",
    "\n",
    "sort_indices_asc = np.argsort(score_array)\n",
    "print('성적 오름차순 정렬 시 score_array의 인덱스:', sort_indices_asc)\n",
    "print('성적 오름차순으로 name_array의 이름 출력:', name_array[sort_indices_asc])"
   ]
  },
  {
   "cell_type": "markdown",
   "id": "7c7b3e1c-c852-43c9-9609-3464d76369cd",
   "metadata": {},
   "source": [
    "### 선형대수 연산 – 행렬 내적과 전치 행렬 구하기\n",
    "\n",
    "* 행렬 내적"
   ]
  },
  {
   "cell_type": "code",
   "execution_count": 70,
   "id": "34ea6b8b-dce1-4239-9094-19794a3c9b6e",
   "metadata": {},
   "outputs": [
    {
     "name": "stdout",
     "output_type": "stream",
     "text": [
      "행렬 내적 결과:\n",
      " [[ 58  64]\n",
      " [139 154]]\n"
     ]
    }
   ],
   "source": [
    "A = np.array([[1, 2, 3],\n",
    "              [4, 5, 6]])\n",
    "B = np.array([[7, 8],\n",
    "              [9, 10],\n",
    "              [11, 12]])\n",
    "\n",
    "dot_product = np.dot(A, B)\n",
    "print('행렬 내적 결과:\\n', dot_product)"
   ]
  },
  {
   "cell_type": "markdown",
   "id": "2d497196-5dab-45aa-ad17-075d4b59ac70",
   "metadata": {},
   "source": [
    "* 전치 행렬"
   ]
  },
  {
   "cell_type": "code",
   "execution_count": 71,
   "id": "350b491d-9447-409c-b021-d466c99d60eb",
   "metadata": {},
   "outputs": [
    {
     "name": "stdout",
     "output_type": "stream",
     "text": [
      "A의 전치 행렬:\n",
      " [[1 3]\n",
      " [2 4]]\n"
     ]
    }
   ],
   "source": [
    "A = np.array([[1, 2],\n",
    "              [3, 4]])\n",
    "transpose_mat = np.transpose(A)\n",
    "print('A의 전치 행렬:\\n', transpose_mat)"
   ]
  },
  {
   "cell_type": "code",
   "execution_count": null,
   "id": "8221d152-ac5b-4ca8-b5bf-6cc72223d8f1",
   "metadata": {},
   "outputs": [],
   "source": []
  }
 ],
 "metadata": {
  "kernelspec": {
   "display_name": "Python 3 (ipykernel)",
   "language": "python",
   "name": "python3"
  },
  "language_info": {
   "codemirror_mode": {
    "name": "ipython",
    "version": 3
   },
   "file_extension": ".py",
   "mimetype": "text/x-python",
   "name": "python",
   "nbconvert_exporter": "python",
   "pygments_lexer": "ipython3",
   "version": "3.9.12"
  }
 },
 "nbformat": 4,
 "nbformat_minor": 5
}
